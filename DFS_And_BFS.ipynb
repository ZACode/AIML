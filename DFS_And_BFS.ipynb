{
  "cells": [
    {
      "cell_type": "code",
      "execution_count": 58,
      "metadata": {
        "colab": {
          "base_uri": "https://localhost:8080/"
        },
        "id": "RKJMR7fSvZRu",
        "outputId": "c78170c6-e757-47b1-b3f3-87e81d692aea"
      },
      "outputs": [],
      "source": [
        "class Point():\n",
        "    def __init__(self,x: int, y: int,dist = 0):\n",
        "        self.x=x\n",
        "        self.y=y\n",
        "        self.dist=dist\n",
        "\n",
        "def isValid(x,y,row,col):\n",
        "    if x in range(row) and y in range(col):\n",
        "        return True\n",
        "    else:\n",
        "        return False\n",
        "\n",
        "def isNotBlocked(x,y,maze):\n",
        "    if maze[x][y] != 0:\n",
        "        return True\n",
        "    else:\n",
        "        return False\n"
      ]
    },
    {
      "cell_type": "code",
      "execution_count": 53,
      "metadata": {},
      "outputs": [],
      "source": [
        "def dfs(maze,start: Point, end: Point):\n",
        "    nrow=len(maze)\n",
        "    ncol=len(maze[0])\n",
        "    visited = [[False for j in range(ncol)] for i in range(nrow)]\n",
        "    frontier = []\n",
        "    frontier.append(start)\n",
        "    # 4 degree movement up, right, down, left\n",
        "    row = [-1,0,1,0]\n",
        "    col = [0,1,0,-1]\n",
        "    cost = 0\n",
        "    while len(frontier)!=0:\n",
        "        current = frontier.pop()\n",
        "        visited[current.x][current.y]=True\n",
        "        cost += 1\n",
        "        print(f'Visiting node : ({str(current.x)},{str(current.y)})')\n",
        "        if current.x == end.x and current.y == end.y :\n",
        "            print(f'Node found at cost {cost}')\n",
        "            break;\n",
        "\n",
        "        # if not found then find neighbours\n",
        "        for i in range(len(row)):\n",
        "            x = current.x + row[i]\n",
        "            y = current.y + col[i]\n",
        "\n",
        "            if isValid(x,y,nrow,ncol) and isNotBlocked(x,y,maze) and not visited[x][y]:\n",
        "                frontier.append(Point(x,y))\n",
        "\n"
      ]
    },
    {
      "cell_type": "code",
      "execution_count": 56,
      "metadata": {},
      "outputs": [],
      "source": [
        "from collections import deque\n",
        "def bfs(maze,start: Point, end: Point):\n",
        "    nrow=len(maze)\n",
        "    ncol=len(maze[0])\n",
        "    visited = [[False for j in range(ncol)] for i in range(nrow)]\n",
        "    frontier = deque()\n",
        "    frontier.append(start)\n",
        "    # 4 degree movement up, right,down,left\n",
        "    row = [-1,0,1, 0]\n",
        "    col = [ 0,1,0,-1]\n",
        "    cost=0\n",
        "    while len(frontier)!=0:\n",
        "        current = frontier.popleft()\n",
        "        visited[current.x][current.y]=True\n",
        "        cost +=1\n",
        "        print(f'Visiting node : ({str(current.x)},{str(current.y)})')\n",
        "        if current.x == end.x and current.y == end.y :\n",
        "            print(f'Node found at cost {cost}')\n",
        "            print(f'Distance from source: {current.dist}')\n",
        "            break;\n",
        "\n",
        "        # if not found then find neighbours\n",
        "        for i in range(len(col)):\n",
        "            x = current.x + row[i]\n",
        "            y = current.y + col[i]\n",
        "\n",
        "            if isValid(x,y,nrow,ncol) and isNotBlocked(x,y,maze) and not visited[x][y]:\n",
        "                frontier.append(Point(x,y,current.dist + 1))\n",
        "\n",
        "\n",
        "                \n",
        "\n"
      ]
    },
    {
      "cell_type": "code",
      "execution_count": 59,
      "metadata": {},
      "outputs": [
        {
          "name": "stdout",
          "output_type": "stream",
          "text": [
            "Visiting node : (0,0)\n",
            "Visiting node : (0,1)\n",
            "Visiting node : (1,0)\n",
            "Visiting node : (0,2)\n",
            "Visiting node : (2,0)\n",
            "Visiting node : (0,3)\n",
            "Visiting node : (1,2)\n",
            "Visiting node : (0,4)\n",
            "Visiting node : (2,2)\n",
            "Node found at cost 9\n",
            "Distance from source: 4\n"
          ]
        }
      ],
      "source": [
        "def main():\n",
        "    # Defining sample 10x10 maze, 1=Ok, 0=Blocked\n",
        "    maze = [[ 1, 1, 1, 1, 1, 1, 0, 1, 1, 1 ],\n",
        "           [ 1, 0, 1, 0, 1, 1, 1, 0, 1, 1 ],\n",
        "           [ 1, 0, 1, 0, 1, 1, 0, 1, 0, 1 ],\n",
        "           [ 0, 0, 0, 0, 1, 0, 0, 0, 0, 1 ],\n",
        "           [ 1, 1, 1, 0, 1, 1, 1, 0, 1, 0 ],\n",
        "           [ 1, 0, 1, 1, 1, 1, 0, 1, 0, 0 ],\n",
        "           [ 1, 0, 0, 0, 0, 0, 0, 0, 0, 1 ],\n",
        "           [ 1, 0, 1, 1, 1, 1, 0, 1, 1, 1 ],\n",
        "           [ 1, 1, 0, 0, 0, 0, 1, 0, 0, 1 ],\n",
        "           [ 1, 0, 0, 0, 0, 0, 0, 0, 0, 1 ]]\n",
        "    \n",
        "    #dfs(maze,Point(0,0),Point(2,2))\n",
        "    bfs(maze,Point(0,0),Point(2,2))\n",
        "\n",
        "main()"
      ]
    }
  ],
  "metadata": {
    "colab": {
      "provenance": []
    },
    "kernelspec": {
      "display_name": "Python 3",
      "name": "python3"
    },
    "language_info": {
      "codemirror_mode": {
        "name": "ipython",
        "version": 3
      },
      "file_extension": ".py",
      "mimetype": "text/x-python",
      "name": "python",
      "nbconvert_exporter": "python",
      "pygments_lexer": "ipython3",
      "version": "3.11.9"
    }
  },
  "nbformat": 4,
  "nbformat_minor": 0
}
